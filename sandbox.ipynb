{
 "cells": [
  {
   "cell_type": "code",
   "execution_count": 1,
   "metadata": {},
   "outputs": [],
   "source": [
    "import numpy as np\n",
    "import pandas as pd\n",
    "import matplotlib.pyplot as plt\n",
    "\n",
    "\n",
    "from Binomial import BinomialModel\n",
    "from MonteCarlo import MonteCarloModel\n",
    "from BlackScholes import BlackScholesMertonModel"
   ]
  },
  {
   "cell_type": "markdown",
   "metadata": {},
   "source": [
    "Now to test out the models that I've created!"
   ]
  },
  {
   "cell_type": "code",
   "execution_count": 3,
   "metadata": {},
   "outputs": [
    {
     "name": "stdout",
     "output_type": "stream",
     "text": [
      "Calling calculate: Memory used 98304 kB; Execution Time: 0.05601795799999998 s\n",
      "Calling compute_tree: Memory used 0 kB; Execution Time: 0.0001104590000000627 s\n",
      "Calling calculate: Memory used 0 kB; Execution Time: 0.0004255829999983973 s\n",
      "3.3845004691203964 3.7308646043377376 3.457789546102589\n"
     ]
    }
   ],
   "source": [
    "M = 1000\n",
    "N = 10\n",
    "S = 101.15\n",
    "sigma = 0.1\n",
    "r = 0.01\n",
    "K = 98.01\n",
    "T = 0.16438356\n",
    "MCmodel = MonteCarloModel(M, N, S, K, r, T, sigma)\n",
    "Bmodel = BinomialModel(1, S, K, r, T, sigma)\n",
    "BSM = BlackScholesMertonModel(S, K, r, T, sigma)\n",
    "print(MCmodel.calculate(), Bmodel.calculate(), BSM.calculate())"
   ]
  },
  {
   "cell_type": "markdown",
   "metadata": {},
   "source": [
    "We can see that the monte carlo method is significantly slower with the chosen parameters. Next, let's see how that accuracy trades off with speed."
   ]
  },
  {
   "cell_type": "code",
   "execution_count": 34,
   "metadata": {},
   "outputs": [],
   "source": []
  },
  {
   "cell_type": "code",
   "execution_count": null,
   "metadata": {},
   "outputs": [],
   "source": []
  },
  {
   "cell_type": "code",
   "execution_count": null,
   "metadata": {},
   "outputs": [],
   "source": []
  },
  {
   "cell_type": "code",
   "execution_count": null,
   "metadata": {},
   "outputs": [],
   "source": []
  },
  {
   "cell_type": "code",
   "execution_count": null,
   "metadata": {},
   "outputs": [],
   "source": []
  },
  {
   "cell_type": "code",
   "execution_count": null,
   "metadata": {},
   "outputs": [],
   "source": []
  }
 ],
 "metadata": {
  "kernelspec": {
   "display_name": "yelpProject",
   "language": "python",
   "name": "python3"
  },
  "language_info": {
   "codemirror_mode": {
    "name": "ipython",
    "version": 3
   },
   "file_extension": ".py",
   "mimetype": "text/x-python",
   "name": "python",
   "nbconvert_exporter": "python",
   "pygments_lexer": "ipython3",
   "version": "3.9.7"
  }
 },
 "nbformat": 4,
 "nbformat_minor": 2
}
